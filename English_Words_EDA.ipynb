{
  "nbformat": 4,
  "nbformat_minor": 0,
  "metadata": {
    "colab": {
      "provenance": [],
      "authorship_tag": "ABX9TyOibW0dNnmbvANFxcM7ICFk",
      "include_colab_link": true
    },
    "kernelspec": {
      "name": "python3",
      "display_name": "Python 3"
    },
    "language_info": {
      "name": "python"
    }
  },
  "cells": [
    {
      "cell_type": "markdown",
      "metadata": {
        "id": "view-in-github",
        "colab_type": "text"
      },
      "source": [
        "<a href=\"https://colab.research.google.com/github/D-Sritha-D/EDA_Projects_Pandas/blob/main/English_Words_EDA.ipynb\" target=\"_parent\"><img src=\"https://colab.research.google.com/assets/colab-badge.svg\" alt=\"Open In Colab\"/></a>"
      ]
    },
    {
      "cell_type": "markdown",
      "source": [
        "Import the Pandas library"
      ],
      "metadata": {
        "id": "pwwNJMHge_JP"
      }
    },
    {
      "cell_type": "code",
      "execution_count": 1,
      "metadata": {
        "id": "jZFz_FjaMHGk"
      },
      "outputs": [],
      "source": []
    },
    {
      "cell_type": "markdown",
      "source": [
        "Read the txt file into a dataframe"
      ],
      "metadata": {
        "id": "3eBkpQqIfDjb"
      }
    },
    {
      "cell_type": "code",
      "source": [],
      "metadata": {
        "id": "4hcPQYSzPs5j"
      },
      "execution_count": 7,
      "outputs": []
    },
    {
      "cell_type": "markdown",
      "source": [
        "Display the first 10 rows of the dataframe"
      ],
      "metadata": {
        "id": "ZHIe8LHtfJgZ"
      }
    },
    {
      "cell_type": "code",
      "source": [],
      "metadata": {
        "id": "TnKEFOt5QLYW"
      },
      "execution_count": null,
      "outputs": []
    },
    {
      "cell_type": "markdown",
      "source": [
        "Change the column name 'A' to the words"
      ],
      "metadata": {
        "id": "3vpL-WfFfOO9"
      }
    },
    {
      "cell_type": "code",
      "source": [],
      "metadata": {
        "id": "0bWvHnA7Ru8e"
      },
      "execution_count": 13,
      "outputs": []
    },
    {
      "cell_type": "markdown",
      "source": [
        "Add character count of each word as another column in the dataframe"
      ],
      "metadata": {
        "id": "uRmZzUunfWdI"
      }
    },
    {
      "cell_type": "code",
      "source": [],
      "metadata": {
        "id": "MGl6_-mmRId_"
      },
      "execution_count": null,
      "outputs": []
    },
    {
      "cell_type": "markdown",
      "source": [
        "Add a column called value which is the sum of the numerical positions of the alphabets in the word\n",
        "(Ex: aah = 1 + 1 + 8 = 10)"
      ],
      "metadata": {
        "id": "thZhiRyyfbP1"
      }
    },
    {
      "cell_type": "code",
      "source": [],
      "metadata": {
        "id": "WHxG3KwVSHsp"
      },
      "execution_count": null,
      "outputs": []
    },
    {
      "cell_type": "markdown",
      "source": [
        "Write a command to find the number of items in the dataframe"
      ],
      "metadata": {
        "id": "hIi47tr2fk8s"
      }
    },
    {
      "cell_type": "code",
      "source": [],
      "metadata": {
        "id": "3FGshhZiUogC"
      },
      "execution_count": null,
      "outputs": []
    },
    {
      "cell_type": "markdown",
      "source": [
        "Set the words as the index of the dataframe"
      ],
      "metadata": {
        "id": "7Abwky1Ufn0d"
      }
    },
    {
      "cell_type": "code",
      "source": [],
      "metadata": {
        "id": "6vpe68UiWAM3"
      },
      "execution_count": null,
      "outputs": []
    },
    {
      "cell_type": "markdown",
      "source": [
        "What is the value of the word 'Acanthomeridae'?"
      ],
      "metadata": {
        "id": "ifGGWedSfqsy"
      }
    },
    {
      "cell_type": "code",
      "source": [],
      "metadata": {
        "id": "FyJGq9kdVaUz"
      },
      "execution_count": null,
      "outputs": []
    },
    {
      "cell_type": "markdown",
      "source": [
        "What is the highest possible value for a word?"
      ],
      "metadata": {
        "id": "SkQylSP_ftbQ"
      }
    },
    {
      "cell_type": "code",
      "source": [],
      "metadata": {
        "id": "ohn1ohMmWZd5"
      },
      "execution_count": null,
      "outputs": []
    },
    {
      "cell_type": "code",
      "source": [],
      "metadata": {
        "id": "kw3PQH9Yfyfh"
      },
      "execution_count": null,
      "outputs": []
    },
    {
      "cell_type": "markdown",
      "source": [
        "What is the highest possible length of a word"
      ],
      "metadata": {
        "id": "KOQzIrAZfzb2"
      }
    },
    {
      "cell_type": "code",
      "source": [],
      "metadata": {
        "id": "kDH75cVnXTC0"
      },
      "execution_count": null,
      "outputs": []
    },
    {
      "cell_type": "markdown",
      "source": [
        "What is the value of the word with Value '317'"
      ],
      "metadata": {
        "id": "vOMwu31Wf3St"
      }
    },
    {
      "cell_type": "code",
      "source": [],
      "metadata": {
        "id": "jkd1PXRmX2YT"
      },
      "execution_count": null,
      "outputs": []
    },
    {
      "cell_type": "code",
      "source": [],
      "metadata": {
        "id": "4YQHKS0BYmeg"
      },
      "execution_count": null,
      "outputs": []
    },
    {
      "cell_type": "markdown",
      "source": [
        "What is the most common value?"
      ],
      "metadata": {
        "id": "4kb0kkA4f6H9"
      }
    },
    {
      "cell_type": "code",
      "source": [],
      "metadata": {
        "id": "fW1JyHB9YAQY"
      },
      "execution_count": null,
      "outputs": []
    },
    {
      "cell_type": "code",
      "source": [],
      "metadata": {
        "id": "nB1cQZIRYGCR"
      },
      "execution_count": null,
      "outputs": []
    },
    {
      "cell_type": "code",
      "source": [],
      "metadata": {
        "id": "9h2jDoqEaHc2"
      },
      "execution_count": null,
      "outputs": []
    },
    {
      "cell_type": "markdown",
      "source": [
        "What is the shortest word with the value of 107"
      ],
      "metadata": {
        "id": "WlfJ6cZOf_lH"
      }
    },
    {
      "cell_type": "code",
      "source": [],
      "metadata": {
        "id": "-_pXaks-aQTV"
      },
      "execution_count": null,
      "outputs": []
    },
    {
      "cell_type": "markdown",
      "source": [
        "Create a new column 'Ratio' such that ratio = value/char count"
      ],
      "metadata": {
        "id": "iQ8KRL60gGlv"
      }
    },
    {
      "cell_type": "code",
      "source": [],
      "metadata": {
        "id": "p5R6tw08az1f"
      },
      "execution_count": 50,
      "outputs": []
    },
    {
      "cell_type": "markdown",
      "source": [
        "What is the maximum value of ratio?"
      ],
      "metadata": {
        "id": "GLiGsQDUgP_e"
      }
    },
    {
      "cell_type": "code",
      "source": [],
      "metadata": {
        "id": "MmMlC_kNblKJ"
      },
      "execution_count": null,
      "outputs": []
    },
    {
      "cell_type": "markdown",
      "source": [
        "What is the word with the highest ratio"
      ],
      "metadata": {
        "id": "TAH3LhK3gTgF"
      }
    },
    {
      "cell_type": "code",
      "source": [],
      "metadata": {
        "id": "0C8c5fdNbpZ2"
      },
      "execution_count": null,
      "outputs": []
    },
    {
      "cell_type": "code",
      "source": [],
      "metadata": {
        "id": "1oEzL7zrcEI3"
      },
      "execution_count": null,
      "outputs": []
    },
    {
      "cell_type": "markdown",
      "source": [
        "How many words have the ratio of 10"
      ],
      "metadata": {
        "id": "mogsBDE5gW-I"
      }
    },
    {
      "cell_type": "code",
      "source": [],
      "metadata": {
        "id": "dXs7QFgtcYDx"
      },
      "execution_count": null,
      "outputs": []
    },
    {
      "cell_type": "code",
      "source": [],
      "metadata": {
        "id": "_fd9qt-ockDY"
      },
      "execution_count": null,
      "outputs": []
    },
    {
      "cell_type": "markdown",
      "source": [
        "What is the maximum value of all words with ratio as 10"
      ],
      "metadata": {
        "id": "ufexGxJHgcPg"
      }
    },
    {
      "cell_type": "code",
      "source": [],
      "metadata": {
        "id": "ep0lNRZQcESy"
      },
      "execution_count": null,
      "outputs": []
    },
    {
      "cell_type": "code",
      "source": [],
      "metadata": {
        "id": "HXgrpQMseJuk"
      },
      "execution_count": null,
      "outputs": []
    },
    {
      "cell_type": "code",
      "source": [],
      "metadata": {
        "id": "r00x3GOodS8L"
      },
      "execution_count": null,
      "outputs": []
    },
    {
      "cell_type": "markdown",
      "source": [
        "Of all the words with the value of 260, what has the loswest character count?"
      ],
      "metadata": {
        "id": "bgzvJz2Ngh5p"
      }
    },
    {
      "cell_type": "code",
      "source": [],
      "metadata": {
        "id": "kDXX766vd20L"
      },
      "execution_count": null,
      "outputs": []
    }
  ]
}